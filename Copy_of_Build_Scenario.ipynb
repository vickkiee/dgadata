{
  "nbformat": 4,
  "nbformat_minor": 0,
  "metadata": {
    "colab": {
      "provenance": [],
      "include_colab_link": true
    },
    "kernelspec": {
      "name": "python3",
      "display_name": "Python 3"
    },
    "language_info": {
      "name": "python"
    }
  },
  "cells": [
    {
      "cell_type": "markdown",
      "metadata": {
        "id": "view-in-github",
        "colab_type": "text"
      },
      "source": [
        "<a href=\"https://colab.research.google.com/github/vickkiee/dgadata/blob/main/Copy_of_Build_Scenario.ipynb\" target=\"_parent\"><img src=\"https://colab.research.google.com/assets/colab-badge.svg\" alt=\"Open In Colab\"/></a>"
      ]
    },
    {
      "cell_type": "markdown",
      "source": [
        "# **ML Foundations Build Scenerio**"
      ],
      "metadata": {
        "id": "67AcJQZyPqJ1"
      }
    },
    {
      "cell_type": "code",
      "execution_count": null,
      "metadata": {
        "id": "VO33psBQPKC9"
      },
      "outputs": [],
      "source": [
        "import pandas as pd\n",
        "import numpy as np\n",
        "import matplotlib.pyplot as plt\n",
        "import datetime\n",
        "from sklearn.model_selection import train_test_split\n",
        "from sklearn.metrics import accuracy_score\n",
        "import seaborn as sns\n",
        "from sklearn.metrics import mean_squared_error\n",
        "from geopy.distance import geodesic"
      ]
    },
    {
      "cell_type": "markdown",
      "source": [
        "## Steps in Building Our Own Soltuion\n",
        "\n",
        "\n",
        "*   Load libraries, load data and oberseve data\n",
        "*   Process the Data\n",
        "* Machine Learning\n",
        "* Testing Machine Learning Model\n",
        "\n"
      ],
      "metadata": {
        "id": "aMKnd1SdtVlc"
      }
    },
    {
      "cell_type": "markdown",
      "source": [
        "## Observing Data"
      ],
      "metadata": {
        "id": "94TlMtwxP5AZ"
      }
    },
    {
      "cell_type": "markdown",
      "source": [
        "## Processing Data\n"
      ],
      "metadata": {
        "id": "9saqeswZP_Bw"
      }
    },
    {
      "cell_type": "code",
      "source": [
        "# Firstly, this code cell will fix the formatting of our cordinate values in our dataframe for both customer and the store\n",
        "\n",
        "#Removing quotation marks\n",
        "df[\"Store address\"] = df[\"Store address\"].replace(\"'\", \"\", regex=True)\n",
        "df[\"Customer address\"] = df[\"Customer address\"].replace(\"'\", \"\", regex=True)\n",
        "\n",
        "#Converting to array for easier processing\n",
        "store_address_array = np.array(df['Store address'])\n",
        "customer_address_array = np.array(df['Customer address'])\n",
        "\n",
        "#Splitting each cordinate by '/' and converting to float and appending to a new list\n",
        "store_longitude = []\n",
        "store_latitude = []\n",
        "customer_longitude = []\n",
        "customer_latitude = []\n",
        "\n",
        "for x in store_address_array:\n",
        "    store_longitude.append(float(x.split(\"/\")[0]))\n",
        "    store_latitude.append(float(x.split(\"/\")[1]))\n",
        "\n",
        "for x in customer_address_array:\n",
        "    customer_longitude.append(float(x.split(\"/\")[0]))\n",
        "    customer_latitude.append(float(x.split(\"/\")[1]))\n",
        "\n",
        "#Adding our properly formatted longitude and latitude values to our dataframe\n",
        "#This step is redundant but I do it for visual purposes\n",
        "df['store_longitude'] = store_longitude\n",
        "df['store_latitude'] = store_latitude\n",
        "\n",
        "df['customer_longitude'] = customer_longitude\n",
        "df['customer_latitude'] = customer_latitude\n",
        "\n",
        "# Secondly, I calculate the distance between the customer and the store using the geodisc function from the geopy library\n",
        "\n",
        "distance = []\n",
        "\n",
        "for z in range(len(customer_longitude)):\n",
        "    store_cords = (store_latitude[z], store_longitude[z])\n",
        "    customer_cords = (customer_latitude[z], customer_longitude[z])\n",
        "    distance.append(geodesic(store_cords, customer_cords).kilometers)\n",
        "\n",
        "#Adding distance to our dataframe\n",
        "df['Distance'] = distance\n",
        "\n",
        "#Convert date columns to proper format\n",
        "df['Order-Date']= pd.to_datetime(df['Order-Date'])\n",
        "df['Delivery-Date']= pd.to_datetime(df['Delivery-Date'])\n",
        "\n",
        "#Creating days taken column\n",
        "df['Days_taken'] = (df['Delivery-Date'] - df['Order-Date']).dt.days\n",
        "\n",
        "# Encoding 1 or 0\n",
        "df.loc[df['Courier'] == 'PS', 'Courier'] = 1\n",
        "df.loc[df['Courier'] == 'FD', 'Courier'] = 0\n",
        "\n",
        "df.loc[df['Weather'] == 'Good', 'Weather'] = 1\n",
        "df.loc[df['Weather'] == 'Bad', 'Weather'] = 0\n",
        "\n",
        "#Convert 'Courier' and 'Weather' column to the represent int values\n",
        "df['Courier'] = df['Courier'].astype(str).astype(int)\n",
        "df['Weather'] = df['Weather'].astype(str).astype(int)\n",
        "\n",
        "df = df.drop(columns=['Order-Date', 'Delivery-Date', 'Promised-Date', 'Store address', 'Customer address', 'store_longitude', 'store_latitude', 'customer_longitude', 'customer_latitude'])\n",
        "\n",
        "\n",
        "df.head()"
      ],
      "metadata": {
        "id": "U5v_4oTMPoHe",
        "colab": {
          "base_uri": "https://localhost:8080/",
          "height": 267
        },
        "outputId": "fc19eafc-b2a3-4f58-9680-af6585abac31"
      },
      "execution_count": null,
      "outputs": [
        {
          "output_type": "execute_result",
          "data": {
            "text/plain": [
              "   Courier  Size of the box height  Size of the box width  \\\n",
              "0        1               29.632656              34.722553   \n",
              "1        0               29.632656              34.722553   \n",
              "2        1               29.632656              34.722553   \n",
              "3        1               29.632656              34.722553   \n",
              "4        0               29.632656              34.722553   \n",
              "\n",
              "   Size of the box length  Size of the box weight  Weather    Distance  \\\n",
              "0               17.523058                3.807421        1  321.473027   \n",
              "1               17.523058                1.902088        1  321.389102   \n",
              "2               17.523058                2.152103        1  321.543559   \n",
              "3               17.523058                3.802455        1  321.476244   \n",
              "4               17.523058                5.510081        1  321.389395   \n",
              "\n",
              "   Days_taken  \n",
              "0           3  \n",
              "1           4  \n",
              "2           5  \n",
              "3           5  \n",
              "4           6  "
            ],
            "text/html": [
              "\n",
              "\n",
              "  <div id=\"df-864222ff-fc46-43e7-817c-3a9bb50306f5\">\n",
              "    <div class=\"colab-df-container\">\n",
              "      <div>\n",
              "<style scoped>\n",
              "    .dataframe tbody tr th:only-of-type {\n",
              "        vertical-align: middle;\n",
              "    }\n",
              "\n",
              "    .dataframe tbody tr th {\n",
              "        vertical-align: top;\n",
              "    }\n",
              "\n",
              "    .dataframe thead th {\n",
              "        text-align: right;\n",
              "    }\n",
              "</style>\n",
              "<table border=\"1\" class=\"dataframe\">\n",
              "  <thead>\n",
              "    <tr style=\"text-align: right;\">\n",
              "      <th></th>\n",
              "      <th>Courier</th>\n",
              "      <th>Size of the box height</th>\n",
              "      <th>Size of the box width</th>\n",
              "      <th>Size of the box length</th>\n",
              "      <th>Size of the box weight</th>\n",
              "      <th>Weather</th>\n",
              "      <th>Distance</th>\n",
              "      <th>Days_taken</th>\n",
              "    </tr>\n",
              "  </thead>\n",
              "  <tbody>\n",
              "    <tr>\n",
              "      <th>0</th>\n",
              "      <td>1</td>\n",
              "      <td>29.632656</td>\n",
              "      <td>34.722553</td>\n",
              "      <td>17.523058</td>\n",
              "      <td>3.807421</td>\n",
              "      <td>1</td>\n",
              "      <td>321.473027</td>\n",
              "      <td>3</td>\n",
              "    </tr>\n",
              "    <tr>\n",
              "      <th>1</th>\n",
              "      <td>0</td>\n",
              "      <td>29.632656</td>\n",
              "      <td>34.722553</td>\n",
              "      <td>17.523058</td>\n",
              "      <td>1.902088</td>\n",
              "      <td>1</td>\n",
              "      <td>321.389102</td>\n",
              "      <td>4</td>\n",
              "    </tr>\n",
              "    <tr>\n",
              "      <th>2</th>\n",
              "      <td>1</td>\n",
              "      <td>29.632656</td>\n",
              "      <td>34.722553</td>\n",
              "      <td>17.523058</td>\n",
              "      <td>2.152103</td>\n",
              "      <td>1</td>\n",
              "      <td>321.543559</td>\n",
              "      <td>5</td>\n",
              "    </tr>\n",
              "    <tr>\n",
              "      <th>3</th>\n",
              "      <td>1</td>\n",
              "      <td>29.632656</td>\n",
              "      <td>34.722553</td>\n",
              "      <td>17.523058</td>\n",
              "      <td>3.802455</td>\n",
              "      <td>1</td>\n",
              "      <td>321.476244</td>\n",
              "      <td>5</td>\n",
              "    </tr>\n",
              "    <tr>\n",
              "      <th>4</th>\n",
              "      <td>0</td>\n",
              "      <td>29.632656</td>\n",
              "      <td>34.722553</td>\n",
              "      <td>17.523058</td>\n",
              "      <td>5.510081</td>\n",
              "      <td>1</td>\n",
              "      <td>321.389395</td>\n",
              "      <td>6</td>\n",
              "    </tr>\n",
              "  </tbody>\n",
              "</table>\n",
              "</div>\n",
              "      <button class=\"colab-df-convert\" onclick=\"convertToInteractive('df-864222ff-fc46-43e7-817c-3a9bb50306f5')\"\n",
              "              title=\"Convert this dataframe to an interactive table.\"\n",
              "              style=\"display:none;\">\n",
              "\n",
              "  <svg xmlns=\"http://www.w3.org/2000/svg\" height=\"24px\"viewBox=\"0 0 24 24\"\n",
              "       width=\"24px\">\n",
              "    <path d=\"M0 0h24v24H0V0z\" fill=\"none\"/>\n",
              "    <path d=\"M18.56 5.44l.94 2.06.94-2.06 2.06-.94-2.06-.94-.94-2.06-.94 2.06-2.06.94zm-11 1L8.5 8.5l.94-2.06 2.06-.94-2.06-.94L8.5 2.5l-.94 2.06-2.06.94zm10 10l.94 2.06.94-2.06 2.06-.94-2.06-.94-.94-2.06-.94 2.06-2.06.94z\"/><path d=\"M17.41 7.96l-1.37-1.37c-.4-.4-.92-.59-1.43-.59-.52 0-1.04.2-1.43.59L10.3 9.45l-7.72 7.72c-.78.78-.78 2.05 0 2.83L4 21.41c.39.39.9.59 1.41.59.51 0 1.02-.2 1.41-.59l7.78-7.78 2.81-2.81c.8-.78.8-2.07 0-2.86zM5.41 20L4 18.59l7.72-7.72 1.47 1.35L5.41 20z\"/>\n",
              "  </svg>\n",
              "      </button>\n",
              "\n",
              "\n",
              "\n",
              "    <div id=\"df-2cb34a77-bc31-4650-8e7d-99e318ab2c49\">\n",
              "      <button class=\"colab-df-quickchart\" onclick=\"quickchart('df-2cb34a77-bc31-4650-8e7d-99e318ab2c49')\"\n",
              "              title=\"Suggest charts.\"\n",
              "              style=\"display:none;\">\n",
              "\n",
              "<svg xmlns=\"http://www.w3.org/2000/svg\" height=\"24px\"viewBox=\"0 0 24 24\"\n",
              "     width=\"24px\">\n",
              "    <g>\n",
              "        <path d=\"M19 3H5c-1.1 0-2 .9-2 2v14c0 1.1.9 2 2 2h14c1.1 0 2-.9 2-2V5c0-1.1-.9-2-2-2zM9 17H7v-7h2v7zm4 0h-2V7h2v10zm4 0h-2v-4h2v4z\"/>\n",
              "    </g>\n",
              "</svg>\n",
              "      </button>\n",
              "    </div>\n",
              "\n",
              "<style>\n",
              "  .colab-df-quickchart {\n",
              "    background-color: #E8F0FE;\n",
              "    border: none;\n",
              "    border-radius: 50%;\n",
              "    cursor: pointer;\n",
              "    display: none;\n",
              "    fill: #1967D2;\n",
              "    height: 32px;\n",
              "    padding: 0 0 0 0;\n",
              "    width: 32px;\n",
              "  }\n",
              "\n",
              "  .colab-df-quickchart:hover {\n",
              "    background-color: #E2EBFA;\n",
              "    box-shadow: 0px 1px 2px rgba(60, 64, 67, 0.3), 0px 1px 3px 1px rgba(60, 64, 67, 0.15);\n",
              "    fill: #174EA6;\n",
              "  }\n",
              "\n",
              "  [theme=dark] .colab-df-quickchart {\n",
              "    background-color: #3B4455;\n",
              "    fill: #D2E3FC;\n",
              "  }\n",
              "\n",
              "  [theme=dark] .colab-df-quickchart:hover {\n",
              "    background-color: #434B5C;\n",
              "    box-shadow: 0px 1px 3px 1px rgba(0, 0, 0, 0.15);\n",
              "    filter: drop-shadow(0px 1px 2px rgba(0, 0, 0, 0.3));\n",
              "    fill: #FFFFFF;\n",
              "  }\n",
              "</style>\n",
              "\n",
              "    <script>\n",
              "      async function quickchart(key) {\n",
              "        const containerElement = document.querySelector('#' + key);\n",
              "        const charts = await google.colab.kernel.invokeFunction(\n",
              "            'suggestCharts', [key], {});\n",
              "      }\n",
              "    </script>\n",
              "\n",
              "      <script>\n",
              "\n",
              "function displayQuickchartButton(domScope) {\n",
              "  let quickchartButtonEl =\n",
              "    domScope.querySelector('#df-2cb34a77-bc31-4650-8e7d-99e318ab2c49 button.colab-df-quickchart');\n",
              "  quickchartButtonEl.style.display =\n",
              "    google.colab.kernel.accessAllowed ? 'block' : 'none';\n",
              "}\n",
              "\n",
              "        displayQuickchartButton(document);\n",
              "      </script>\n",
              "      <style>\n",
              "    .colab-df-container {\n",
              "      display:flex;\n",
              "      flex-wrap:wrap;\n",
              "      gap: 12px;\n",
              "    }\n",
              "\n",
              "    .colab-df-convert {\n",
              "      background-color: #E8F0FE;\n",
              "      border: none;\n",
              "      border-radius: 50%;\n",
              "      cursor: pointer;\n",
              "      display: none;\n",
              "      fill: #1967D2;\n",
              "      height: 32px;\n",
              "      padding: 0 0 0 0;\n",
              "      width: 32px;\n",
              "    }\n",
              "\n",
              "    .colab-df-convert:hover {\n",
              "      background-color: #E2EBFA;\n",
              "      box-shadow: 0px 1px 2px rgba(60, 64, 67, 0.3), 0px 1px 3px 1px rgba(60, 64, 67, 0.15);\n",
              "      fill: #174EA6;\n",
              "    }\n",
              "\n",
              "    [theme=dark] .colab-df-convert {\n",
              "      background-color: #3B4455;\n",
              "      fill: #D2E3FC;\n",
              "    }\n",
              "\n",
              "    [theme=dark] .colab-df-convert:hover {\n",
              "      background-color: #434B5C;\n",
              "      box-shadow: 0px 1px 3px 1px rgba(0, 0, 0, 0.15);\n",
              "      filter: drop-shadow(0px 1px 2px rgba(0, 0, 0, 0.3));\n",
              "      fill: #FFFFFF;\n",
              "    }\n",
              "  </style>\n",
              "\n",
              "      <script>\n",
              "        const buttonEl =\n",
              "          document.querySelector('#df-864222ff-fc46-43e7-817c-3a9bb50306f5 button.colab-df-convert');\n",
              "        buttonEl.style.display =\n",
              "          google.colab.kernel.accessAllowed ? 'block' : 'none';\n",
              "\n",
              "        async function convertToInteractive(key) {\n",
              "          const element = document.querySelector('#df-864222ff-fc46-43e7-817c-3a9bb50306f5');\n",
              "          const dataTable =\n",
              "            await google.colab.kernel.invokeFunction('convertToInteractive',\n",
              "                                                     [key], {});\n",
              "          if (!dataTable) return;\n",
              "\n",
              "          const docLinkHtml = 'Like what you see? Visit the ' +\n",
              "            '<a target=\"_blank\" href=https://colab.research.google.com/notebooks/data_table.ipynb>data table notebook</a>'\n",
              "            + ' to learn more about interactive tables.';\n",
              "          element.innerHTML = '';\n",
              "          dataTable['output_type'] = 'display_data';\n",
              "          await google.colab.output.renderOutput(dataTable, element);\n",
              "          const docLink = document.createElement('div');\n",
              "          docLink.innerHTML = docLinkHtml;\n",
              "          element.appendChild(docLink);\n",
              "        }\n",
              "      </script>\n",
              "    </div>\n",
              "  </div>\n"
            ]
          },
          "metadata": {},
          "execution_count": 3
        }
      ]
    },
    {
      "cell_type": "markdown",
      "source": [
        "## Machine Learning"
      ],
      "metadata": {
        "id": "HNdIyEAAQP39"
      }
    },
    {
      "cell_type": "code",
      "source": [
        "df_array = np.array(df)\n",
        "\n",
        "#Seperating featuers and target\n",
        "X = df_array[:, :-1]\n",
        "y = df_array[:, -1]\n",
        "\n",
        "print('Features:',X.shape)\n",
        "print('Target:',y.shape)\n",
        "\n",
        "X_train, X_test, y_train, y_test = train_test_split(X, y, test_size=0.2)\n",
        "\n",
        "from sklearn.tree import DecisionTreeRegressor\n",
        "\n",
        "#Applying a decision tree regressor\n",
        "dt_regressor = DecisionTreeRegressor()\n",
        "dt_regressor.fit(X_train, y_train)\n",
        "y_pred = dt_regressor.predict(X_test)"
      ],
      "metadata": {
        "id": "OC6_5NGIQSTI",
        "colab": {
          "base_uri": "https://localhost:8080/"
        },
        "outputId": "2b7f3686-abc6-45d0-fd1f-a082f74124bd"
      },
      "execution_count": null,
      "outputs": [
        {
          "output_type": "stream",
          "name": "stdout",
          "text": [
            "Features: (9222, 7)\n",
            "Target: (9222,)\n"
          ]
        }
      ]
    },
    {
      "cell_type": "markdown",
      "source": [
        "## Testing Model"
      ],
      "metadata": {
        "id": "-0otu_1pQlS4"
      }
    },
    {
      "cell_type": "code",
      "source": [
        "dt_regressor.score(X_test, y_test)"
      ],
      "metadata": {
        "id": "bELqGK8BQWNI",
        "colab": {
          "base_uri": "https://localhost:8080/"
        },
        "outputId": "1e921d07-66a8-42ac-eafc-b6e8f354e7eb"
      },
      "execution_count": null,
      "outputs": [
        {
          "output_type": "execute_result",
          "data": {
            "text/plain": [
              "0.7701818062236602"
            ]
          },
          "metadata": {},
          "execution_count": 5
        }
      ]
    },
    {
      "cell_type": "markdown",
      "source": [
        "This is not a great accuracy score given our data is not that complex.\n"
      ],
      "metadata": {
        "id": "GfiDGVSlsiOT"
      }
    }
  ]
}